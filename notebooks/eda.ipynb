{
 "cells": [
  {
   "cell_type": "markdown",
   "id": "f6b2a7d8",
   "metadata": {},
   "source": [
    "# Análisis Exploratorio (EDA)\n",
    "Notebook de ejemplo."
   ]
  },
  {
   "cell_type": "code",
   "execution_count": null,
   "id": "c5fd8952",
   "metadata": {},
   "outputs": [],
   "source": [
    "import pandas as pd\n",
    "print('EDA notebook')"
   ]
  }
 ],
 "metadata": {
  "language_info": {
   "name": "python"
  }
 },
 "nbformat": 4,
 "nbformat_minor": 5
}
