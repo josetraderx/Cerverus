{
 "cells": [
  {
   "cell_type": "markdown",
   "id": "b8e0de80",
   "metadata": {},
   "source": [
    "# Entrenamiento de modelos"
   ]
  },
  {
   "cell_type": "code",
   "execution_count": null,
   "id": "f899a5b8",
   "metadata": {},
   "outputs": [],
   "source": [
    "print('Entrenamiento')"
   ]
  }
 ],
 "metadata": {
  "language_info": {
   "name": "python"
  }
 },
 "nbformat": 4,
 "nbformat_minor": 5
}
